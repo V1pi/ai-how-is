{
 "cells": [
  {
   "cell_type": "code",
   "execution_count": 1,
   "metadata": {},
   "outputs": [],
   "source": [
    "%config IPCompleter.greedy=True"
   ]
  },
  {
   "cell_type": "code",
   "execution_count": 2,
   "metadata": {},
   "outputs": [],
   "source": [
    "import requests\n",
    "import json\n",
    "import os\n",
    "import logging\n",
    "from tqdm.notebook import tqdm\n",
    "from datetime import datetime"
   ]
  },
  {
   "cell_type": "code",
   "execution_count": 3,
   "metadata": {},
   "outputs": [],
   "source": [
    "# Allow logging\n",
    "logging.basicConfig(level=logging.INFO)\n",
    "# Get current path\n",
    "ROOT_PATH = os.path.dirname(os.path.realpath('__file__'))"
   ]
  },
  {
   "cell_type": "code",
   "execution_count": 4,
   "metadata": {},
   "outputs": [],
   "source": [
    "# Load TMDB api key\n",
    "with open(os.path.join(ROOT_PATH, 'TMDBApi.json')) as json_file:\n",
    "    data = json.load(json_file)\n",
    "    apiKey = data['apiKey']"
   ]
  },
  {
   "cell_type": "code",
   "execution_count": 5,
   "metadata": {},
   "outputs": [],
   "source": [
    "params = { \"api_key\": apiKey, \"page\": 1 }"
   ]
  },
  {
   "cell_type": "code",
   "execution_count": 6,
   "metadata": {},
   "outputs": [],
   "source": [
    "r = requests.get('https://api.themoviedb.org/3/person/popular', params=params )"
   ]
  },
  {
   "cell_type": "code",
   "execution_count": 7,
   "metadata": {},
   "outputs": [],
   "source": [
    "def save_image_actor(id_actor):\n",
    "    base_url_image = \"https://image.tmdb.org/t/p/w500{0}\"\n",
    "    directory_name = id_actor\n",
    "    path_directory = os.path.join(ROOT_PATH, 'images', 'train', directory_name)        \n",
    "    if not os.path.exists(path_directory):\n",
    "        os.mkdir(path_directory)\n",
    "    count = 0\n",
    "    r = requests.get('https://api.themoviedb.org/3/person/{0}/images'.format(id_actor), params=params)\n",
    "    data = r.json()\n",
    "    if 'profiles' in data:        \n",
    "        for profile in data['profiles']:\n",
    "            count += 1\n",
    "            url_image = base_url_image.format(profile[\"file_path\"])\n",
    "            page = requests.get(url_image)\n",
    "            with open(os.path.join(path_directory, '{0}.jpg'.format(count)), 'wb') as file:\n",
    "                file.write(page.content)\n",
    "    pbar.update(1)\n",
    "\n",
    "def save_id_database(data_per_page, filename):\n",
    "    actors_ids = []\n",
    "    for actor in data_per_page[\"results\"]:\n",
    "        actor_id = str(actor[\"id\"])\n",
    "        actors_ids.append(actor_id)\n",
    "    type_write = 'w'\n",
    "    if os.path.isfile(filename):\n",
    "        type_write = 'a'\n",
    "    actors_ids = '\\n'.join(actors_ids)\n",
    "    with open(filename, type_write) as file:\n",
    "        file.write(actors_ids)\n",
    "\n",
    "def read_database_ids(filename):\n",
    "    actors_ids = []\n",
    "    with open(filename) as f:\n",
    "        actors_ids = [line.rstrip() for line in f]\n",
    "    return actors_ids"
   ]
  },
  {
   "cell_type": "code",
   "execution_count": 8,
   "metadata": {},
   "outputs": [],
   "source": [
    "def retrieve_actors_ids():\n",
    "    params = { \"api_key\": apiKey, \"page\": 1 }\n",
    "    r = requests.get('https://api.themoviedb.org/3/person/popular', params=params )\n",
    "    data = r.json()\n",
    "    total_pages = data['total_pages']\n",
    "    with tqdm(total= total_pages) as pbar:\n",
    "        str_date_now = datetime.today().strftime('%d-%m-%Y')\n",
    "        path_filename_actors_ids = os.path.join(ROOT_PATH, 'database')\n",
    "        temp_filename = os.path.join(path_filename_actors_ids, 'temp_database_{0}'.format(str_date_now))\n",
    "        filename = os.path.join(path_filename_actors_ids, 'database_{0}'.format(str_date_now))\n",
    "        for i in range(1, total_pages + 1):\n",
    "            params['page'] = i\n",
    "            r = requests.get('https://api.themoviedb.org/3/person/popular', params=params )\n",
    "            data_per_page = r.json()\n",
    "            save_id_database(data_per_page, temp_filename)\n",
    "            pbar.update(1)\n",
    "\n",
    "        actors_ids = read_database_ids(temp_filename)\n",
    "        actors_ids.insert(0, str(len(actors_ids)))\n",
    "        actors_ids='\\n'.join(actors_ids)\n",
    "        with open(filename, 'w') as file:\n",
    "            file.write(actors_ids)\n",
    "        os.remove(temp_filename)"
   ]
  },
  {
   "cell_type": "code",
   "execution_count": 9,
   "metadata": {},
   "outputs": [
    {
     "data": {
      "application/vnd.jupyter.widget-view+json": {
       "model_id": "595baa3bb3c645688c5fcf2cf33ecec8",
       "version_major": 2,
       "version_minor": 0
      },
      "text/plain": [
       "HBox(children=(FloatProgress(value=0.0, max=500.0), HTML(value='')))"
      ]
     },
     "metadata": {},
     "output_type": "display_data"
    },
    {
     "name": "stdout",
     "output_type": "stream",
     "text": [
      "\n"
     ]
    },
    {
     "data": {
      "application/vnd.jupyter.widget-view+json": {
       "model_id": "e5ac14b99f554535a46116e9648142c2",
       "version_major": 2,
       "version_minor": 0
      },
      "text/plain": [
       "HBox(children=(FloatProgress(value=0.0, max=9501.0), HTML(value='')))"
      ]
     },
     "metadata": {},
     "output_type": "display_data"
    },
    {
     "name": "stdout",
     "output_type": "stream",
     "text": [
      "\n"
     ]
    }
   ],
   "source": [
    "retrieve_actors_ids()\n",
    "actors_ids = read_database_ids(os.path.join(ROOT_PATH, 'database', 'database_13-06-2020'))\n",
    "total_actors = int(actors_ids[0])\n",
    "with tqdm(total= total_actors) as pbar:    \n",
    "    for actor_id in actors_ids[1:]:\n",
    "        save_image_actor(actor_id)"
   ]
  },
  {
   "cell_type": "code",
   "execution_count": null,
   "metadata": {},
   "outputs": [],
   "source": []
  }
 ],
 "metadata": {
  "kernelspec": {
   "display_name": "Python 3",
   "language": "python",
   "name": "python3"
  },
  "language_info": {
   "codemirror_mode": {
    "name": "ipython",
    "version": 3
   },
   "file_extension": ".py",
   "mimetype": "text/x-python",
   "name": "python",
   "nbconvert_exporter": "python",
   "pygments_lexer": "ipython3",
   "version": "3.6.9"
  }
 },
 "nbformat": 4,
 "nbformat_minor": 2
}
